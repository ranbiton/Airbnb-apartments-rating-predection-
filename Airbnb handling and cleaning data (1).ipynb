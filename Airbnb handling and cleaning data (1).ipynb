{
 "cells": [
  {
   "cell_type": "code",
   "execution_count": 1,
   "id": "47af127c",
   "metadata": {},
   "outputs": [],
   "source": [
    "import pandas as pd\n",
    "import matplotlib.pyplot as plt\n",
    "import seaborn as sns\n",
    "import numpy as np\n",
    "%matplotlib inline"
   ]
  },
  {
   "cell_type": "code",
   "execution_count": 2,
   "id": "58183b65",
   "metadata": {},
   "outputs": [
    {
     "name": "stdout",
     "output_type": "stream",
     "text": [
      "<class 'pandas.core.frame.DataFrame'>\n",
      "RangeIndex: 2970 entries, 0 to 2969\n",
      "Data columns (total 23 columns):\n",
      " #   Column               Non-Null Count  Dtype  \n",
      "---  ------               --------------  -----  \n",
      " 0   Name                 2970 non-null   object \n",
      " 1   City                 2970 non-null   object \n",
      " 2   Rating               2240 non-null   float64\n",
      " 3   Price                2872 non-null   object \n",
      " 4   Reviews              2970 non-null   int64  \n",
      " 5   Location             2189 non-null   float64\n",
      " 6   Cleanliness          2189 non-null   float64\n",
      " 7   Communication        2189 non-null   float64\n",
      " 8   Value for Money      2189 non-null   float64\n",
      " 9   Accuracy             2189 non-null   float64\n",
      " 10  Check-in             2189 non-null   float64\n",
      " 11  Guests               2938 non-null   object \n",
      " 12  TV                   2970 non-null   int64  \n",
      " 13  Elevator             2970 non-null   int64  \n",
      " 14  Wifi                 2970 non-null   int64  \n",
      " 15  Free street parking  2970 non-null   int64  \n",
      " 16  Privet parking       2970 non-null   int64  \n",
      " 17  Refrigerator         2970 non-null   int64  \n",
      " 18  Air conditioning     2970 non-null   int64  \n",
      " 19  Kitchen              2970 non-null   int64  \n",
      " 20  Pets allowd          2970 non-null   int64  \n",
      " 21  Dedicated workspace  2970 non-null   int64  \n",
      " 22  Security cameras     2970 non-null   int64  \n",
      "dtypes: float64(7), int64(12), object(4)\n",
      "memory usage: 533.8+ KB\n"
     ]
    }
   ],
   "source": [
    "df=pd.read_csv(\"Airbnb_DataFrame_final.csv\")\n",
    "df.head(50)\n",
    "df.info()"
   ]
  },
  {
   "cell_type": "markdown",
   "id": "124dcad5",
   "metadata": {},
   "source": [
    "## Remove Dupilcates:"
   ]
  },
  {
   "cell_type": "code",
   "execution_count": 3,
   "id": "68db4885",
   "metadata": {},
   "outputs": [],
   "source": [
    "df.drop_duplicates(keep=\"first\",inplace=True)"
   ]
  },
  {
   "cell_type": "markdown",
   "id": "3006ea2d",
   "metadata": {},
   "source": [
    "## drop nan values and more:"
   ]
  },
  {
   "cell_type": "code",
   "execution_count": 4,
   "id": "12922c65",
   "metadata": {},
   "outputs": [],
   "source": [
    "# Remove rows with missing values  \n",
    "df.dropna(axis=0, subset=['Rating', \"Location\", \"Cleanliness\",\"Cleanliness\",\n",
    "                          \"Value for Money\",\"Accuracy\",\"Check-in\",\"Price\",\"Guests\"], inplace = True)\n",
    "\n",
    "# Removing the ',' from numbers with more than 3 digits so we will be able to convert to int. \n",
    "# from stack overflow\n",
    "df['Price'] = df['Price'].str.replace(',','')\n",
    "# Change type of \"Price\" col\n",
    "df.astype({'Price':np.int64}).dtypes\n",
    "# df.astype({'Guests':np.int64}).dtypes\n",
    "df[\"Guests\"] = pd.to_numeric(df[\"Guests\"], errors='coerce')"
   ]
  },
  {
   "cell_type": "code",
   "execution_count": 5,
   "id": "4660caf0",
   "metadata": {},
   "outputs": [
    {
     "data": {
      "text/plain": [
       "2.0     816\n",
       "4.0     326\n",
       "1.0     219\n",
       "3.0     206\n",
       "6.0     150\n",
       "5.0      77\n",
       "8.0      58\n",
       "7.0      27\n",
       "10.0     24\n",
       "12.0      9\n",
       "9.0       9\n",
       "14.0      6\n",
       "11.0      5\n",
       "13.0      3\n",
       "Name: Guests, dtype: int64"
      ]
     },
     "execution_count": 5,
     "metadata": {},
     "output_type": "execute_result"
    }
   ],
   "source": [
    "df.drop([\"Elevator\"],inplace=True ,axis=1)\n",
    "#sort index\n",
    "df.reset_index(drop=True, inplace=True)\n",
    "#we saw that we have 3 apartment with 0 Guests and put there the median\n",
    "df[\"Guests\"]=df[\"Guests\"].replace(0,df[\"Guests\"].median())\n",
    "df[\"Guests\"].value_counts()"
   ]
  },
  {
   "cell_type": "code",
   "execution_count": 6,
   "id": "00e283f1",
   "metadata": {},
   "outputs": [
    {
     "name": "stdout",
     "output_type": "stream",
     "text": [
      "<class 'pandas.core.frame.DataFrame'>\n",
      "RangeIndex: 1938 entries, 0 to 1937\n",
      "Data columns (total 22 columns):\n",
      " #   Column               Non-Null Count  Dtype  \n",
      "---  ------               --------------  -----  \n",
      " 0   Name                 1938 non-null   object \n",
      " 1   City                 1938 non-null   object \n",
      " 2   Rating               1938 non-null   float64\n",
      " 3   Price                1938 non-null   object \n",
      " 4   Reviews              1938 non-null   int64  \n",
      " 5   Location             1938 non-null   float64\n",
      " 6   Cleanliness          1938 non-null   float64\n",
      " 7   Communication        1938 non-null   float64\n",
      " 8   Value for Money      1938 non-null   float64\n",
      " 9   Accuracy             1938 non-null   float64\n",
      " 10  Check-in             1938 non-null   float64\n",
      " 11  Guests               1935 non-null   float64\n",
      " 12  TV                   1938 non-null   int64  \n",
      " 13  Wifi                 1938 non-null   int64  \n",
      " 14  Free street parking  1938 non-null   int64  \n",
      " 15  Privet parking       1938 non-null   int64  \n",
      " 16  Refrigerator         1938 non-null   int64  \n",
      " 17  Air conditioning     1938 non-null   int64  \n",
      " 18  Kitchen              1938 non-null   int64  \n",
      " 19  Pets allowd          1938 non-null   int64  \n",
      " 20  Dedicated workspace  1938 non-null   int64  \n",
      " 21  Security cameras     1938 non-null   int64  \n",
      "dtypes: float64(8), int64(11), object(3)\n",
      "memory usage: 333.2+ KB\n"
     ]
    }
   ],
   "source": [
    "df.to_csv(r\"Airbnb_DataFrame_After_Cleaning.csv\", mode='w', index=False)\n",
    "df.info()"
   ]
  },
  {
   "cell_type": "code",
   "execution_count": null,
   "id": "34eb172c",
   "metadata": {},
   "outputs": [],
   "source": []
  },
  {
   "cell_type": "code",
   "execution_count": null,
   "id": "9bd0dcc0",
   "metadata": {},
   "outputs": [],
   "source": []
  }
 ],
 "metadata": {
  "kernelspec": {
   "display_name": "Python 3 (ipykernel)",
   "language": "python",
   "name": "python3"
  },
  "language_info": {
   "codemirror_mode": {
    "name": "ipython",
    "version": 3
   },
   "file_extension": ".py",
   "mimetype": "text/x-python",
   "name": "python",
   "nbconvert_exporter": "python",
   "pygments_lexer": "ipython3",
   "version": "3.9.12"
  }
 },
 "nbformat": 4,
 "nbformat_minor": 5
}
